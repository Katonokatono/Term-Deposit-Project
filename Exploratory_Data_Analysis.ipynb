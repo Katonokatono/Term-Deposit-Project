{
  "nbformat": 4,
  "nbformat_minor": 0,
  "metadata": {
    "colab": {
      "name": "Exploratory Data Analysis",
      "provenance": [],
      "collapsed_sections": [
        "i8aQOVwZxnFG"
      ],
      "include_colab_link": true
    },
    "kernelspec": {
      "name": "python3",
      "display_name": "Python 3"
    },
    "language_info": {
      "name": "python"
    }
  },
  "cells": [
    {
      "cell_type": "markdown",
      "metadata": {
        "id": "view-in-github",
        "colab_type": "text"
      },
      "source": [
        "<a href=\"https://colab.research.google.com/github/Katonokatono/Term-Deposit-Project/blob/EDA/Exploratory_Data_Analysis.ipynb\" target=\"_parent\"><img src=\"https://colab.research.google.com/assets/colab-badge.svg\" alt=\"Open In Colab\"/></a>"
      ]
    },
    {
      "cell_type": "code",
      "metadata": {
        "id": "T6YqB1BRhjjx"
      },
      "source": [
        "#importing libraries\n",
        "# importing pandas\n",
        "import pandas as pd\n",
        "\n",
        "# importing numpy\n",
        "import numpy as np\n",
        "\n",
        "# importing matplotlib.pyplot\n",
        "import matplotlib.pyplot as plt\n",
        "\n",
        "# importing scipy.stats\n",
        "import scipy.stats as stats\n",
        "\n",
        "# importing seaborn\n",
        "import seaborn as sns"
      ],
      "execution_count": 1,
      "outputs": []
    },
    {
      "cell_type": "code",
      "metadata": {
        "colab": {
          "base_uri": "https://localhost:8080/",
          "height": 439
        },
        "id": "Mv9_A-eQjM-F",
        "outputId": "f26e27d7-7d86-4d1f-e9be-0833ec11bfb0"
      },
      "source": [
        "#loading dataset\n",
        "bank=pd.read_csv(\"/content/bank-additional-full.csv\",delimiter=\";\")\n",
        "bank"
      ],
      "execution_count": 2,
      "outputs": [
        {
          "output_type": "execute_result",
          "data": {
            "text/html": [
              "<div>\n",
              "<style scoped>\n",
              "    .dataframe tbody tr th:only-of-type {\n",
              "        vertical-align: middle;\n",
              "    }\n",
              "\n",
              "    .dataframe tbody tr th {\n",
              "        vertical-align: top;\n",
              "    }\n",
              "\n",
              "    .dataframe thead th {\n",
              "        text-align: right;\n",
              "    }\n",
              "</style>\n",
              "<table border=\"1\" class=\"dataframe\">\n",
              "  <thead>\n",
              "    <tr style=\"text-align: right;\">\n",
              "      <th></th>\n",
              "      <th>age</th>\n",
              "      <th>job</th>\n",
              "      <th>marital</th>\n",
              "      <th>education</th>\n",
              "      <th>default</th>\n",
              "      <th>housing</th>\n",
              "      <th>loan</th>\n",
              "      <th>contact</th>\n",
              "      <th>month</th>\n",
              "      <th>day_of_week</th>\n",
              "      <th>duration</th>\n",
              "      <th>campaign</th>\n",
              "      <th>pdays</th>\n",
              "      <th>previous</th>\n",
              "      <th>poutcome</th>\n",
              "      <th>emp.var.rate</th>\n",
              "      <th>cons.price.idx</th>\n",
              "      <th>cons.conf.idx</th>\n",
              "      <th>euribor3m</th>\n",
              "      <th>nr.employed</th>\n",
              "      <th>y</th>\n",
              "    </tr>\n",
              "  </thead>\n",
              "  <tbody>\n",
              "    <tr>\n",
              "      <th>0</th>\n",
              "      <td>56</td>\n",
              "      <td>housemaid</td>\n",
              "      <td>married</td>\n",
              "      <td>basic.4y</td>\n",
              "      <td>no</td>\n",
              "      <td>no</td>\n",
              "      <td>no</td>\n",
              "      <td>telephone</td>\n",
              "      <td>may</td>\n",
              "      <td>mon</td>\n",
              "      <td>261</td>\n",
              "      <td>1</td>\n",
              "      <td>999</td>\n",
              "      <td>0</td>\n",
              "      <td>nonexistent</td>\n",
              "      <td>1.1</td>\n",
              "      <td>93.994</td>\n",
              "      <td>-36.4</td>\n",
              "      <td>4.857</td>\n",
              "      <td>5191.0</td>\n",
              "      <td>no</td>\n",
              "    </tr>\n",
              "    <tr>\n",
              "      <th>1</th>\n",
              "      <td>57</td>\n",
              "      <td>services</td>\n",
              "      <td>married</td>\n",
              "      <td>high.school</td>\n",
              "      <td>unknown</td>\n",
              "      <td>no</td>\n",
              "      <td>no</td>\n",
              "      <td>telephone</td>\n",
              "      <td>may</td>\n",
              "      <td>mon</td>\n",
              "      <td>149</td>\n",
              "      <td>1</td>\n",
              "      <td>999</td>\n",
              "      <td>0</td>\n",
              "      <td>nonexistent</td>\n",
              "      <td>1.1</td>\n",
              "      <td>93.994</td>\n",
              "      <td>-36.4</td>\n",
              "      <td>4.857</td>\n",
              "      <td>5191.0</td>\n",
              "      <td>no</td>\n",
              "    </tr>\n",
              "    <tr>\n",
              "      <th>2</th>\n",
              "      <td>37</td>\n",
              "      <td>services</td>\n",
              "      <td>married</td>\n",
              "      <td>high.school</td>\n",
              "      <td>no</td>\n",
              "      <td>yes</td>\n",
              "      <td>no</td>\n",
              "      <td>telephone</td>\n",
              "      <td>may</td>\n",
              "      <td>mon</td>\n",
              "      <td>226</td>\n",
              "      <td>1</td>\n",
              "      <td>999</td>\n",
              "      <td>0</td>\n",
              "      <td>nonexistent</td>\n",
              "      <td>1.1</td>\n",
              "      <td>93.994</td>\n",
              "      <td>-36.4</td>\n",
              "      <td>4.857</td>\n",
              "      <td>5191.0</td>\n",
              "      <td>no</td>\n",
              "    </tr>\n",
              "    <tr>\n",
              "      <th>3</th>\n",
              "      <td>40</td>\n",
              "      <td>admin.</td>\n",
              "      <td>married</td>\n",
              "      <td>basic.6y</td>\n",
              "      <td>no</td>\n",
              "      <td>no</td>\n",
              "      <td>no</td>\n",
              "      <td>telephone</td>\n",
              "      <td>may</td>\n",
              "      <td>mon</td>\n",
              "      <td>151</td>\n",
              "      <td>1</td>\n",
              "      <td>999</td>\n",
              "      <td>0</td>\n",
              "      <td>nonexistent</td>\n",
              "      <td>1.1</td>\n",
              "      <td>93.994</td>\n",
              "      <td>-36.4</td>\n",
              "      <td>4.857</td>\n",
              "      <td>5191.0</td>\n",
              "      <td>no</td>\n",
              "    </tr>\n",
              "    <tr>\n",
              "      <th>4</th>\n",
              "      <td>56</td>\n",
              "      <td>services</td>\n",
              "      <td>married</td>\n",
              "      <td>high.school</td>\n",
              "      <td>no</td>\n",
              "      <td>no</td>\n",
              "      <td>yes</td>\n",
              "      <td>telephone</td>\n",
              "      <td>may</td>\n",
              "      <td>mon</td>\n",
              "      <td>307</td>\n",
              "      <td>1</td>\n",
              "      <td>999</td>\n",
              "      <td>0</td>\n",
              "      <td>nonexistent</td>\n",
              "      <td>1.1</td>\n",
              "      <td>93.994</td>\n",
              "      <td>-36.4</td>\n",
              "      <td>4.857</td>\n",
              "      <td>5191.0</td>\n",
              "      <td>no</td>\n",
              "    </tr>\n",
              "    <tr>\n",
              "      <th>...</th>\n",
              "      <td>...</td>\n",
              "      <td>...</td>\n",
              "      <td>...</td>\n",
              "      <td>...</td>\n",
              "      <td>...</td>\n",
              "      <td>...</td>\n",
              "      <td>...</td>\n",
              "      <td>...</td>\n",
              "      <td>...</td>\n",
              "      <td>...</td>\n",
              "      <td>...</td>\n",
              "      <td>...</td>\n",
              "      <td>...</td>\n",
              "      <td>...</td>\n",
              "      <td>...</td>\n",
              "      <td>...</td>\n",
              "      <td>...</td>\n",
              "      <td>...</td>\n",
              "      <td>...</td>\n",
              "      <td>...</td>\n",
              "      <td>...</td>\n",
              "    </tr>\n",
              "    <tr>\n",
              "      <th>41183</th>\n",
              "      <td>73</td>\n",
              "      <td>retired</td>\n",
              "      <td>married</td>\n",
              "      <td>professional.course</td>\n",
              "      <td>no</td>\n",
              "      <td>yes</td>\n",
              "      <td>no</td>\n",
              "      <td>cellular</td>\n",
              "      <td>nov</td>\n",
              "      <td>fri</td>\n",
              "      <td>334</td>\n",
              "      <td>1</td>\n",
              "      <td>999</td>\n",
              "      <td>0</td>\n",
              "      <td>nonexistent</td>\n",
              "      <td>-1.1</td>\n",
              "      <td>94.767</td>\n",
              "      <td>-50.8</td>\n",
              "      <td>1.028</td>\n",
              "      <td>4963.6</td>\n",
              "      <td>yes</td>\n",
              "    </tr>\n",
              "    <tr>\n",
              "      <th>41184</th>\n",
              "      <td>46</td>\n",
              "      <td>blue-collar</td>\n",
              "      <td>married</td>\n",
              "      <td>professional.course</td>\n",
              "      <td>no</td>\n",
              "      <td>no</td>\n",
              "      <td>no</td>\n",
              "      <td>cellular</td>\n",
              "      <td>nov</td>\n",
              "      <td>fri</td>\n",
              "      <td>383</td>\n",
              "      <td>1</td>\n",
              "      <td>999</td>\n",
              "      <td>0</td>\n",
              "      <td>nonexistent</td>\n",
              "      <td>-1.1</td>\n",
              "      <td>94.767</td>\n",
              "      <td>-50.8</td>\n",
              "      <td>1.028</td>\n",
              "      <td>4963.6</td>\n",
              "      <td>no</td>\n",
              "    </tr>\n",
              "    <tr>\n",
              "      <th>41185</th>\n",
              "      <td>56</td>\n",
              "      <td>retired</td>\n",
              "      <td>married</td>\n",
              "      <td>university.degree</td>\n",
              "      <td>no</td>\n",
              "      <td>yes</td>\n",
              "      <td>no</td>\n",
              "      <td>cellular</td>\n",
              "      <td>nov</td>\n",
              "      <td>fri</td>\n",
              "      <td>189</td>\n",
              "      <td>2</td>\n",
              "      <td>999</td>\n",
              "      <td>0</td>\n",
              "      <td>nonexistent</td>\n",
              "      <td>-1.1</td>\n",
              "      <td>94.767</td>\n",
              "      <td>-50.8</td>\n",
              "      <td>1.028</td>\n",
              "      <td>4963.6</td>\n",
              "      <td>no</td>\n",
              "    </tr>\n",
              "    <tr>\n",
              "      <th>41186</th>\n",
              "      <td>44</td>\n",
              "      <td>technician</td>\n",
              "      <td>married</td>\n",
              "      <td>professional.course</td>\n",
              "      <td>no</td>\n",
              "      <td>no</td>\n",
              "      <td>no</td>\n",
              "      <td>cellular</td>\n",
              "      <td>nov</td>\n",
              "      <td>fri</td>\n",
              "      <td>442</td>\n",
              "      <td>1</td>\n",
              "      <td>999</td>\n",
              "      <td>0</td>\n",
              "      <td>nonexistent</td>\n",
              "      <td>-1.1</td>\n",
              "      <td>94.767</td>\n",
              "      <td>-50.8</td>\n",
              "      <td>1.028</td>\n",
              "      <td>4963.6</td>\n",
              "      <td>yes</td>\n",
              "    </tr>\n",
              "    <tr>\n",
              "      <th>41187</th>\n",
              "      <td>74</td>\n",
              "      <td>retired</td>\n",
              "      <td>married</td>\n",
              "      <td>professional.course</td>\n",
              "      <td>no</td>\n",
              "      <td>yes</td>\n",
              "      <td>no</td>\n",
              "      <td>cellular</td>\n",
              "      <td>nov</td>\n",
              "      <td>fri</td>\n",
              "      <td>239</td>\n",
              "      <td>3</td>\n",
              "      <td>999</td>\n",
              "      <td>1</td>\n",
              "      <td>failure</td>\n",
              "      <td>-1.1</td>\n",
              "      <td>94.767</td>\n",
              "      <td>-50.8</td>\n",
              "      <td>1.028</td>\n",
              "      <td>4963.6</td>\n",
              "      <td>no</td>\n",
              "    </tr>\n",
              "  </tbody>\n",
              "</table>\n",
              "<p>41188 rows × 21 columns</p>\n",
              "</div>"
            ],
            "text/plain": [
              "       age          job  marital  ... euribor3m nr.employed    y\n",
              "0       56    housemaid  married  ...     4.857      5191.0   no\n",
              "1       57     services  married  ...     4.857      5191.0   no\n",
              "2       37     services  married  ...     4.857      5191.0   no\n",
              "3       40       admin.  married  ...     4.857      5191.0   no\n",
              "4       56     services  married  ...     4.857      5191.0   no\n",
              "...    ...          ...      ...  ...       ...         ...  ...\n",
              "41183   73      retired  married  ...     1.028      4963.6  yes\n",
              "41184   46  blue-collar  married  ...     1.028      4963.6   no\n",
              "41185   56      retired  married  ...     1.028      4963.6   no\n",
              "41186   44   technician  married  ...     1.028      4963.6  yes\n",
              "41187   74      retired  married  ...     1.028      4963.6   no\n",
              "\n",
              "[41188 rows x 21 columns]"
            ]
          },
          "metadata": {
            "tags": []
          },
          "execution_count": 2
        }
      ]
    },
    {
      "cell_type": "code",
      "metadata": {
        "colab": {
          "base_uri": "https://localhost:8080/"
        },
        "id": "wkwt20qujpoD",
        "outputId": "b2322e21-8300-4c6d-e2d3-2dbe99960108"
      },
      "source": [
        "#renaming column\n",
        "bank.rename(columns={'y': 'term_deposit'}, inplace=True)\n",
        "bank.columns"
      ],
      "execution_count": 3,
      "outputs": [
        {
          "output_type": "execute_result",
          "data": {
            "text/plain": [
              "Index(['age', 'job', 'marital', 'education', 'default', 'housing', 'loan',\n",
              "       'contact', 'month', 'day_of_week', 'duration', 'campaign', 'pdays',\n",
              "       'previous', 'poutcome', 'emp.var.rate', 'cons.price.idx',\n",
              "       'cons.conf.idx', 'euribor3m', 'nr.employed', 'term_deposit'],\n",
              "      dtype='object')"
            ]
          },
          "metadata": {
            "tags": []
          },
          "execution_count": 3
        }
      ]
    },
    {
      "cell_type": "code",
      "metadata": {
        "id": "Y8RhWEtsk80V"
      },
      "source": [
        "bank=bank[['age', 'job', 'marital', 'education', 'default', 'housing', 'loan',\n",
        "       'contact', 'month', 'day_of_week', 'duration','term_deposit']]"
      ],
      "execution_count": 4,
      "outputs": []
    },
    {
      "cell_type": "markdown",
      "metadata": {
        "id": "8sEJf_0Kj96y"
      },
      "source": [
        "##UNIVARIATE ANALYSIS\n"
      ]
    },
    {
      "cell_type": "code",
      "metadata": {
        "colab": {
          "base_uri": "https://localhost:8080/",
          "height": 111
        },
        "id": "tMFbCG4Xj57u",
        "outputId": "f398e608-8da3-4475-f5dc-daddfe2e7ae7"
      },
      "source": [
        "bank.describe().T"
      ],
      "execution_count": 5,
      "outputs": [
        {
          "output_type": "execute_result",
          "data": {
            "text/html": [
              "<div>\n",
              "<style scoped>\n",
              "    .dataframe tbody tr th:only-of-type {\n",
              "        vertical-align: middle;\n",
              "    }\n",
              "\n",
              "    .dataframe tbody tr th {\n",
              "        vertical-align: top;\n",
              "    }\n",
              "\n",
              "    .dataframe thead th {\n",
              "        text-align: right;\n",
              "    }\n",
              "</style>\n",
              "<table border=\"1\" class=\"dataframe\">\n",
              "  <thead>\n",
              "    <tr style=\"text-align: right;\">\n",
              "      <th></th>\n",
              "      <th>count</th>\n",
              "      <th>mean</th>\n",
              "      <th>std</th>\n",
              "      <th>min</th>\n",
              "      <th>25%</th>\n",
              "      <th>50%</th>\n",
              "      <th>75%</th>\n",
              "      <th>max</th>\n",
              "    </tr>\n",
              "  </thead>\n",
              "  <tbody>\n",
              "    <tr>\n",
              "      <th>age</th>\n",
              "      <td>41188.0</td>\n",
              "      <td>40.02406</td>\n",
              "      <td>10.421250</td>\n",
              "      <td>17.0</td>\n",
              "      <td>32.0</td>\n",
              "      <td>38.0</td>\n",
              "      <td>47.0</td>\n",
              "      <td>98.0</td>\n",
              "    </tr>\n",
              "    <tr>\n",
              "      <th>duration</th>\n",
              "      <td>41188.0</td>\n",
              "      <td>258.28501</td>\n",
              "      <td>259.279249</td>\n",
              "      <td>0.0</td>\n",
              "      <td>102.0</td>\n",
              "      <td>180.0</td>\n",
              "      <td>319.0</td>\n",
              "      <td>4918.0</td>\n",
              "    </tr>\n",
              "  </tbody>\n",
              "</table>\n",
              "</div>"
            ],
            "text/plain": [
              "            count       mean         std   min    25%    50%    75%     max\n",
              "age       41188.0   40.02406   10.421250  17.0   32.0   38.0   47.0    98.0\n",
              "duration  41188.0  258.28501  259.279249   0.0  102.0  180.0  319.0  4918.0"
            ]
          },
          "metadata": {
            "tags": []
          },
          "execution_count": 5
        }
      ]
    },
    {
      "cell_type": "markdown",
      "metadata": {
        "id": "MgimW1tyqCxc"
      },
      "source": [
        "NUMERICAL"
      ]
    },
    {
      "cell_type": "code",
      "metadata": {
        "colab": {
          "base_uri": "https://localhost:8080/",
          "height": 1000
        },
        "id": "TAiJZobKoool",
        "outputId": "96480acc-d37e-49ae-fe62-638edaa8ecf9"
      },
      "source": [
        "#checking for outliers\n",
        "col_names = ['age','duration']\n",
        "\n",
        "fig, ax = plt.subplots(len(col_names), figsize= (8,40))\n",
        "\n",
        "for i, col_val in enumerate(col_names):\n",
        "  sns.boxplot(y = bank[col_val], ax= ax[i])\n",
        "  ax[i].set_title('Box plot - {}'.format(col_val), fontsize= 10)\n",
        "  ax[i].set_xlabel(col_val, fontsize= 8)\n",
        "plt.show()"
      ],
      "execution_count": 6,
      "outputs": [
        {
          "output_type": "display_data",
          "data": {
            "image/png": "[encoded data removed]",
            "text/plain": [
              "<Figure size 576x2880 with 2 Axes>"
            ]
          },
          "metadata": {
            "tags": [],
            "needs_background": "light"
          }
        }
      ]
    },
    {
      "cell_type": "markdown",
      "metadata": {
        "id": "RyzL7vnpjBiG"
      },
      "source": [
        "We will continue working with the outliers as they are since removing might cause a variation in our analysis"
      ]
    },
    {
      "cell_type": "markdown",
      "metadata": {
        "id": "aJ02_1NboNUT"
      },
      "source": [
        "AGE"
      ]
    },
    {
      "cell_type": "markdown",
      "metadata": {
        "id": "946DE1LXmNaB"
      },
      "source": [
        "Central Measures of Tendancy"
      ]
    },
    {
      "cell_type": "code",
      "metadata": {
        "colab": {
          "base_uri": "https://localhost:8080/"
        },
        "id": "Zra9XyXImGJ2",
        "outputId": "91160567-8b85-47de-e7ea-bf92e05a5503"
      },
      "source": [
        "##Finding the central measures of tendancy of our numerical variable 'age'\n",
        "print('The mean of age is: ' +str(bank['age'].mean()))\n",
        "print('The median of age is: ' +str(bank['age'].median()))\n",
        "print('The mode of age is: ' +str(bank['age'].mode()))"
      ],
      "execution_count": 7,
      "outputs": [
        {
          "output_type": "stream",
          "text": [
            "The mean of age is: 40.02406040594348\n",
            "The median of age is: 38.0\n",
            "The mode of age is: 0    31\n",
            "dtype: int64\n"
          ],
          "name": "stdout"
        }
      ]
    },
    {
      "cell_type": "markdown",
      "metadata": {
        "id": "fZTsqK2n5Xcs"
      },
      "source": [
        "The average age of the existing bank customers is 40 years, the median age is 38 and mode 31 "
      ]
    },
    {
      "cell_type": "markdown",
      "metadata": {
        "id": "x7LHWb2Dmrd6"
      },
      "source": [
        "Measure of Dispersion"
      ]
    },
    {
      "cell_type": "code",
      "metadata": {
        "colab": {
          "base_uri": "https://localhost:8080/"
        },
        "id": "E3ThjmK3mw_Z",
        "outputId": "802915d9-7aa5-40cf-8c94-5e44f87ca845"
      },
      "source": [
        "print('The range of age is: ' +str(bank['age'].max()-bank['age'].min()))\n",
        "print('The standard deviation of age is: ' +str(bank['age'].std()))\n",
        "print('The variance of age is: ' +str(bank['age'].var()))\n",
        "print('The skewness of age is: ' +str(bank['age'].skew()))\n",
        "print('The kurtosis of age is: ' +str(bank['age'].kurt()))\n",
        "print('The quantiles of age is: ' +str(bank['age'].quantile([0.25, 0.5, 0.75])))"
      ],
      "execution_count": 8,
      "outputs": [
        {
          "output_type": "stream",
          "text": [
            "The range of age is: 81\n",
            "The standard deviation of age is: 10.421249980934235\n",
            "The variance of age is: 108.60245116512178\n",
            "The skewness of age is: 0.7846968157646645\n",
            "The kurtosis of age is: 0.7913115311544336\n",
            "The quantiles of age is: 0.25    32.0\n",
            "0.50    38.0\n",
            "0.75    47.0\n",
            "Name: age, dtype: float64\n"
          ],
          "name": "stdout"
        }
      ]
    },
    {
      "cell_type": "markdown",
      "metadata": {
        "id": "ligrVRFxoQD9"
      },
      "source": [
        "DURATION"
      ]
    },
    {
      "cell_type": "markdown",
      "metadata": {
        "id": "Lqapt9YwoVQY"
      },
      "source": [
        "Central Measures of Tendancy"
      ]
    },
    {
      "cell_type": "code",
      "metadata": {
        "colab": {
          "base_uri": "https://localhost:8080/"
        },
        "id": "AwNrwVEwoDv2",
        "outputId": "5fa69b13-ef0f-4c9e-8fab-527710f46dc1"
      },
      "source": [
        "print('The mean of duration is: ' +str(bank['duration'].mean()))\n",
        "print('The median of duration is: ' +str(bank['duration'].median()))\n",
        "print('The mode of duration is: ' +str(bank['duration'].mode()))"
      ],
      "execution_count": 9,
      "outputs": [
        {
          "output_type": "stream",
          "text": [
            "The mean of duration is: 258.2850101971448\n",
            "The median of duration is: 180.0\n",
            "The mode of duration is: 0    85\n",
            "1    90\n",
            "dtype: int64\n"
          ],
          "name": "stdout"
        }
      ]
    },
    {
      "cell_type": "markdown",
      "metadata": {
        "id": "VJD3dIGDoZ9D"
      },
      "source": [
        "Measure of Dispersion"
      ]
    },
    {
      "cell_type": "code",
      "metadata": {
        "colab": {
          "base_uri": "https://localhost:8080/"
        },
        "id": "I-BZTUajoE6P",
        "outputId": "b4501c33-8f0d-4bf4-b7ad-a8212cdd5464"
      },
      "source": [
        "print('The range of duration is: ' +str(bank['duration'].max()-bank['duration'].min()))\n",
        "print('The standard deviation of duration is: ' +str(bank['duration'].std()))\n",
        "print('The variance of duration is: ' +str(bank['duration'].var()))\n",
        "print('The skewness of duration is: ' +str(bank['duration'].skew()))\n",
        "print('The kurtosis of duration is: ' +str(bank['duration'].kurt()))\n",
        "print('The quantiles of duration is: ' +str(bank['duration'].quantile([0.25, 0.5, 0.75])))"
      ],
      "execution_count": 10,
      "outputs": [
        {
          "output_type": "stream",
          "text": [
            "The range of duration is: 4918\n",
            "The standard deviation of duration is: 259.2792488364648\n",
            "The variance of duration is: 67225.72887720143\n",
            "The skewness of duration is: 3.263141255262832\n",
            "The kurtosis of duration is: 20.247938014978796\n",
            "The quantiles of duration is: 0.25    102.0\n",
            "0.50    180.0\n",
            "0.75    319.0\n",
            "Name: duration, dtype: float64\n"
          ],
          "name": "stdout"
        }
      ]
    },
    {
      "cell_type": "markdown",
      "metadata": {
        "id": "RlXM9sQiBN20"
      },
      "source": [
        "From the above analysis we realize the following about our numerical variables 'age and duration\":\n",
        "\n",
        "*   The average contact duration with the bank customers is 258 minutes, median 180 minutes and mode of 85 minutes\n",
        "*   The average age of the banks existing pool of customers is 40 years\n",
        "*   Our age variable is moderately skewed since the skewness falls between 0.5 and 1. Its kurtosis indicates that it follows the mesokurtic kurtosis\n",
        "*   The duration variable, has excess kurtosis as it falls above 3 hence follows the leptokurtic kurtosis indicating extreme values on either sides of the tails\n",
        "\n",
        "\n",
        "\n",
        "\n",
        "\n",
        "\n",
        "\n"
      ]
    },
    {
      "cell_type": "code",
      "metadata": {
        "colab": {
          "base_uri": "https://localhost:8080/",
          "height": 585
        },
        "id": "vu96EagcpRDJ",
        "outputId": "bcac39a0-ae76-402f-d83d-766d6f8c0f58"
      },
      "source": [
        "\n",
        "# graphical representation of the univariate analysis\n",
        "\n",
        "bins = 10\n",
        "\n",
        "fig, (ax1,ax2) = plt.subplots(1, 2, figsize= (12,8))\n",
        "\n",
        "sns.distplot(bank.age, ax=ax1, bins= bins)\n",
        "sns.distplot(bank.duration, ax=ax2, bins= bins)\n",
        "\n",
        "plt.show()"
      ],
      "execution_count": 11,
      "outputs": [
        {
          "output_type": "stream",
          "text": [
            "/usr/local/lib/python3.7/dist-packages/seaborn/distributions.py:2557: FutureWarning: `distplot` is a deprecated function and will be removed in a future version. Please adapt your code to use either `displot` (a figure-level function with similar flexibility) or `histplot` (an axes-level function for histograms).\n",
            "  warnings.warn(msg, FutureWarning)\n",
            "/usr/local/lib/python3.7/dist-packages/seaborn/distributions.py:2557: FutureWarning: `distplot` is a deprecated function and will be removed in a future version. Please adapt your code to use either `displot` (a figure-level function with similar flexibility) or `histplot` (an axes-level function for histograms).\n",
            "  warnings.warn(msg, FutureWarning)\n"
          ],
          "name": "stderr"
        },
        {
          "output_type": "display_data",
          "data": {
            "image/png": "[encoded data removed]",
            "text/plain": [
              "<Figure size 864x576 with 2 Axes>"
            ]
          },
          "metadata": {
            "tags": [],
            "needs_background": "light"
          }
        }
      ]
    },
    {
      "cell_type": "markdown",
      "metadata": {
        "id": "ngBecLGkqGHg"
      },
      "source": [
        "CATEGORICAL"
      ]
    },
    {
      "cell_type": "code",
      "metadata": {
        "colab": {
          "base_uri": "https://localhost:8080/",
          "height": 1000
        },
        "id": "xWlWyMB0qJfw",
        "outputId": "9b0e8eb0-78ae-4cce-c784-c5008bf39f1c"
      },
      "source": [
        "#univariate analysis categorical variables\n",
        "columns=['job','marital','education','month','day_of_week','default','housing','loan','contact']\n",
        "plt.figure(figsize=(15,80),facecolor='white')\n",
        "plotnumber=1\n",
        "for col in columns:\n",
        "  ax=plt.subplot(12,3,plotnumber)\n",
        "  sns.countplot(y=col,data=bank)\n",
        "  plt.xlabel(col)\n",
        "  plt.ylabel(col)\n",
        "  plotnumber+=1\n",
        "plt.show()"
      ],
      "execution_count": 12,
      "outputs": [
        {
          "output_type": "display_data",
          "data": {
            "image/png": "[encoded data removed]",
            "text/plain": [
              "<Figure size 1080x5760 with 9 Axes>"
            ]
          },
          "metadata": {
            "tags": []
          }
        }
      ]
    },
    {
      "cell_type": "markdown",
      "metadata": {
        "id": "qP5PFtC1DkMg"
      },
      "source": [
        "The above visualizations show the following about the banks customers: \n",
        "\n",
        "*   Most of the customers work as admins\n",
        "*   Most of the customers are married\n",
        "*   Most of the customers have housing loans\n",
        "*   Most of the customers have loans\n",
        "*   Most of customers were contacted via cellphone\n",
        "*   Most of the customers were contacted during May\n",
        "*   Most of the customers were contacted on Thursday\n",
        "*   Most of the customers do not have default loans\n"
      ]
    },
    {
      "cell_type": "markdown",
      "metadata": {
        "id": "e7R-E2EexiKw"
      },
      "source": [
        "##BIVARIATE ANALYSIS"
      ]
    },
    {
      "cell_type": "markdown",
      "metadata": {
        "id": "OkBknWaxrvEi"
      },
      "source": [
        "NUMERICAL VS NUMERICAL\n"
      ]
    },
    {
      "cell_type": "code",
      "metadata": {
        "colab": {
          "base_uri": "https://localhost:8080/"
        },
        "id": "8CC9d6lKvUzx",
        "outputId": "cf28c2c1-b698-4309-b8ec-c2caf6841e36"
      },
      "source": [
        "pearson_coeff_bank = bank[\"age\"].corr(bank[\"duration\"], method = \"pearson\")\n",
        "pearson_coeff_bank"
      ],
      "execution_count": 13,
      "outputs": [
        {
          "output_type": "execute_result",
          "data": {
            "text/plain": [
              "-0.0008657050101409354"
            ]
          },
          "metadata": {
            "tags": []
          },
          "execution_count": 13
        }
      ]
    },
    {
      "cell_type": "markdown",
      "metadata": {
        "id": "L1gEEuVowE73"
      },
      "source": [
        "There's no correlation between age of customer and duration of last contact by the marketing team. The criteria which the marketing team used when making calls to potential customers did not matter by their age. "
      ]
    },
    {
      "cell_type": "code",
      "metadata": {
        "colab": {
          "base_uri": "https://localhost:8080/",
          "height": 374
        },
        "id": "P4cVGWC-r9Yt",
        "outputId": "4d9e6306-0bce-401a-c8b3-be99d8eddfcb"
      },
      "source": [
        "#summary of bivariate analysis \n",
        "sns.pairplot(bank)\n",
        "plt.show()"
      ],
      "execution_count": 14,
      "outputs": [
        {
          "output_type": "display_data",
          "data": {
            "image/png": "[encoded data removed]",
            "text/plain": [
              "<Figure size 360x360 with 6 Axes>"
            ]
          },
          "metadata": {
            "tags": [],
            "needs_background": "light"
          }
        }
      ]
    },
    {
      "cell_type": "markdown",
      "metadata": {
        "id": "Rsx-66howtk3"
      },
      "source": [
        "The above plots and the below heatmap cement the fact that there's no correlation between age and last contact duration"
      ]
    },
    {
      "cell_type": "code",
      "metadata": {
        "colab": {
          "base_uri": "https://localhost:8080/",
          "height": 269
        },
        "id": "uK8Nw94AsCI0",
        "outputId": "e6f41d05-dfb0-419d-b2b0-43c40dca0284"
      },
      "source": [
        "#correlation heat map\n",
        "sns.heatmap(bank.corr(),annot=True)\n",
        "plt.show()"
      ],
      "execution_count": 15,
      "outputs": [
        {
          "output_type": "display_data",
          "data": {
            "image/png": "[encoded data removed]",
            "text/plain": [
              "<Figure size 432x288 with 2 Axes>"
            ]
          },
          "metadata": {
            "tags": [],
            "needs_background": "light"
          }
        }
      ]
    },
    {
      "cell_type": "markdown",
      "metadata": {
        "id": "Q7VE9eKPq97F"
      },
      "source": [
        "NUMERICAL VS CATEGORICAL"
      ]
    },
    {
      "cell_type": "code",
      "metadata": {
        "colab": {
          "base_uri": "https://localhost:8080/",
          "height": 352
        },
        "id": "lylMBVhpq8_1",
        "outputId": "1627be98-140e-4c87-c235-15afb92a26df"
      },
      "source": [
        "#barplot for numerical vs categorical\n",
        "fig, ax = plt.subplots(1, figsize=(10,5))\n",
        "sns.barplot(x=bank['term_deposit'], y= bank['age'], ax=ax)\n"
      ],
      "execution_count": 16,
      "outputs": [
        {
          "output_type": "execute_result",
          "data": {
            "text/plain": [
              "<matplotlib.axes._subplots.AxesSubplot at 0x7fa4aadbb150>"
            ]
          },
          "metadata": {
            "tags": []
          },
          "execution_count": 16
        },
        {
          "output_type": "display_data",
          "data": {
            "image/png": "[encoded data removed]",
            "text/plain": [
              "<Figure size 720x360 with 1 Axes>"
            ]
          },
          "metadata": {
            "tags": [],
            "needs_background": "light"
          }
        }
      ]
    },
    {
      "cell_type": "markdown",
      "metadata": {
        "id": "B9H5v4vsw8Cm"
      },
      "source": [
        "There average age of people with no term deposists is ~39 years and the average age of people with term deposits is ~40 years. "
      ]
    },
    {
      "cell_type": "code",
      "metadata": {
        "colab": {
          "base_uri": "https://localhost:8080/",
          "height": 352
        },
        "id": "HZJ1nuyAuHuz",
        "outputId": "478ccfaa-322d-4bac-8bab-9dfbc4395f21"
      },
      "source": [
        "fig, ax = plt.subplots(1, figsize=(10,5))\n",
        "sns.barplot(x=bank['term_deposit'], y= bank['duration'], ax=ax)"
      ],
      "execution_count": 17,
      "outputs": [
        {
          "output_type": "execute_result",
          "data": {
            "text/plain": [
              "<matplotlib.axes._subplots.AxesSubplot at 0x7fa4acc77910>"
            ]
          },
          "metadata": {
            "tags": []
          },
          "execution_count": 17
        },
        {
          "output_type": "display_data",
          "data": {
            "image/png": "[encoded data removed]",
            "text/plain": [
              "<Figure size 720x360 with 1 Axes>"
            ]
          },
          "metadata": {
            "tags": [],
            "needs_background": "light"
          }
        }
      ]
    },
    {
      "cell_type": "markdown",
      "metadata": {
        "id": "Q23VY0nWxdVP"
      },
      "source": [
        "The more contact there was with the customers the more they had term deposists or rather the more they subscribed to term deposits. Duration of contact is therefore a significant factor in customers subscribing to term deposits. "
      ]
    },
    {
      "cell_type": "markdown",
      "metadata": {
        "id": "j2xice9luN5Y"
      },
      "source": [
        "CATEGORICAL VS CATEGORICAL"
      ]
    },
    {
      "cell_type": "code",
      "metadata": {
        "colab": {
          "base_uri": "https://localhost:8080/"
        },
        "id": "3PnvHUXEvKjI",
        "outputId": "d0bb10f9-ee7e-4ddc-cdb0-794d9945a815"
      },
      "source": [
        "bank.columns"
      ],
      "execution_count": 18,
      "outputs": [
        {
          "output_type": "execute_result",
          "data": {
            "text/plain": [
              "Index(['age', 'job', 'marital', 'education', 'default', 'housing', 'loan',\n",
              "       'contact', 'month', 'day_of_week', 'duration', 'term_deposit'],\n",
              "      dtype='object')"
            ]
          },
          "metadata": {
            "tags": []
          },
          "execution_count": 18
        }
      ]
    },
    {
      "cell_type": "code",
      "metadata": {
        "colab": {
          "base_uri": "https://localhost:8080/",
          "height": 1000
        },
        "id": "nu7XaR-6uS7F",
        "outputId": "89c6e93a-f98a-4b3a-8a2b-e6c7b4d4b1d3"
      },
      "source": [
        "columns=['default', 'housing', 'loan',\n",
        "       'contact']\n",
        "for col in columns:\n",
        "  sns.catplot(x='term_deposit',col=col,kind='count',data=bank)\n",
        "plt.show()"
      ],
      "execution_count": 19,
      "outputs": [
        {
          "output_type": "display_data",
          "data": {
            "image/png": "[encoded data removed]",
            "text/plain": [
              "<Figure size 1080x360 with 3 Axes>"
            ]
          },
          "metadata": {
            "tags": [],
            "needs_background": "light"
          }
        },
        {
          "output_type": "display_data",
          "data": {
            "image/png": "[encoded data removed]",
            "text/plain": [
              "<Figure size 1080x360 with 3 Axes>"
            ]
          },
          "metadata": {
            "tags": [],
            "needs_background": "light"
          }
        },
        {
          "output_type": "display_data",
          "data": {
            "image/png": "[encoded data removed]",
            "text/plain": [
              "<Figure size 1080x360 with 3 Axes>"
            ]
          },
          "metadata": {
            "tags": [],
            "needs_background": "light"
          }
        },
        {
          "output_type": "display_data",
          "data": {
            "image/png": "[encoded data removed]",
            "text/plain": [
              "<Figure size 720x360 with 2 Axes>"
            ]
          },
          "metadata": {
            "tags": [],
            "needs_background": "light"
          }
        }
      ]
    },
    {
      "cell_type": "markdown",
      "metadata": {
        "id": "R0R8c09UydPn"
      },
      "source": [
        "From the above;\n",
        "\n",
        "There were more term deposists subscriptions with customers that hadn't defaulted on loans. \n",
        "\n",
        "There were slightly more term deposits with customers that had a mortgage and those that didn't have a mortgage. \n",
        "\n",
        "There were significantly more term deposists with customers with no loans at all which can be interpretad as they had more money to invest.\n",
        "\n",
        "Lastly, there were more term deposits subscriptions with customers that had a cellular phone and therefore had more and reliable access to their savings data."
      ]
    },
    {
      "cell_type": "code",
      "metadata": {
        "colab": {
          "base_uri": "https://localhost:8080/",
          "height": 367
        },
        "id": "68bERPVgwngG",
        "outputId": "d5a16ac2-86b1-4069-eab3-8dda89a81e5e"
      },
      "source": [
        "bank.groupby('education')['term_deposit'].value_counts().unstack().plot.bar(stacked=True)\n",
        "plt.legend(loc=\"upper right\")\n",
        "plt.ylabel('has a term deposit')\n",
        "plt.xlabel('Education')\n",
        "plt.show()"
      ],
      "execution_count": 20,
      "outputs": [
        {
          "output_type": "display_data",
          "data": {
            "image/png": "[encoded data removed]",
            "text/plain": [
              "<Figure size 432x288 with 1 Axes>"
            ]
          },
          "metadata": {
            "tags": [],
            "needs_background": "light"
          }
        }
      ]
    },
    {
      "cell_type": "markdown",
      "metadata": {
        "id": "S43_ClmT0zam"
      },
      "source": [
        "The majority of customers with term deposits have a university degree followed by those with high school education and the least subscriptions were those with no education at all. The unknown entries need to be investigated further. "
      ]
    },
    {
      "cell_type": "code",
      "metadata": {
        "colab": {
          "base_uri": "https://localhost:8080/",
          "height": 340
        },
        "id": "kqkRC5EBw0Aj",
        "outputId": "7745796f-3de6-430d-f021-a2ed1f9b92f2"
      },
      "source": [
        "bank.groupby('job')['term_deposit'].value_counts().unstack().plot.bar(stacked=True)\n",
        "plt.legend(loc=\"upper right\")\n",
        "plt.ylabel('has a term deposit')\n",
        "plt.xlabel('Job')\n",
        "plt.show()"
      ],
      "execution_count": 21,
      "outputs": [
        {
          "output_type": "display_data",
          "data": {
            "image/png": "[encoded data removed]",
            "text/plain": [
              "<Figure size 432x288 with 1 Axes>"
            ]
          },
          "metadata": {
            "tags": [],
            "needs_background": "light"
          }
        }
      ]
    },
    {
      "cell_type": "markdown",
      "metadata": {
        "id": "lpPCTVQx1hNe"
      },
      "source": [
        "The majority of customers with term deposits had an administrative job, closely followed by those with blue collar jobs and technicians. The least subscriptions were observed to be students and those with unknown professions. "
      ]
    },
    {
      "cell_type": "code",
      "metadata": {
        "colab": {
          "base_uri": "https://localhost:8080/",
          "height": 291
        },
        "id": "NYorq0JMw-Kc",
        "outputId": "76a9c087-9778-46aa-e5c6-ce5ebdb3a817"
      },
      "source": [
        "bank.groupby('month')['term_deposit'].value_counts().unstack().plot.bar(stacked=True)\n",
        "plt.legend(loc=\"upper right\")\n",
        "plt.ylabel('has a term deposit')\n",
        "plt.xlabel('month')\n",
        "plt.show()"
      ],
      "execution_count": 22,
      "outputs": [
        {
          "output_type": "display_data",
          "data": {
            "image/png": "[encoded data removed]",
            "text/plain": [
              "<Figure size 432x288 with 1 Axes>"
            ]
          },
          "metadata": {
            "tags": [],
            "needs_background": "light"
          }
        }
      ]
    },
    {
      "cell_type": "markdown",
      "metadata": {
        "id": "7uiMNvRm2Gzv"
      },
      "source": [
        "The month that recorded highest number of subscriptions is May followed by June, July and August. The least subscritptions were recorded in December and this can be due to the fact that December is when most people are on holiday and spend a lot than investing. This also shows that there was least contact to customers in December hence the low subscription numbers. "
      ]
    },
    {
      "cell_type": "code",
      "metadata": {
        "colab": {
          "base_uri": "https://localhost:8080/",
          "height": 291
        },
        "id": "2OWHGpJLxGop",
        "outputId": "fb4f0b4c-1efe-4974-bbcb-9f683463d14c"
      },
      "source": [
        "bank.groupby('day_of_week')['term_deposit'].value_counts().unstack().plot.bar(stacked=True)\n",
        "plt.legend(loc=\"upper right\")\n",
        "plt.ylabel('has a term deposit')\n",
        "plt.xlabel('day of week')\n",
        "plt.show()"
      ],
      "execution_count": 23,
      "outputs": [
        {
          "output_type": "display_data",
          "data": {
            "image/png": "[encoded data removed]",
            "text/plain": [
              "<Figure size 432x288 with 1 Axes>"
            ]
          },
          "metadata": {
            "tags": [],
            "needs_background": "light"
          }
        }
      ]
    },
    {
      "cell_type": "markdown",
      "metadata": {
        "id": "HuEBEEFb3I33"
      },
      "source": [
        "Monday and Thursday recorded the highest number of subscriptions, the least subscriptions were recorded on Friday. The weekends were not taken into account mostly because the bank doesn't operate on weekends. "
      ]
    },
    {
      "cell_type": "markdown",
      "metadata": {
        "id": "-JeA6QYpt0wa"
      },
      "source": [
        "**Bivariate Analysis Recommendation**"
      ]
    },
    {
      "cell_type": "markdown",
      "metadata": {
        "id": "rd7ndyTZt_Vu"
      },
      "source": [
        "We therefore recommend for the bank to invest more in contacting customers through the marketing team especially during the months with significantly few sucbriptions like October, November and December and encourage customers to invest more than spending since the more the customers were contacted the more subscriptions were recorded. \n",
        "\n",
        "We also recommend the bank to invest more in educating customers on the importance of term deposits in regard to professions and level of education. Students can be encouraged to start saving at a young age to secure a good future and this can be done through visiting the schools and enligtening them about the product. This will help fill the gap in investment noted in those two variables. \n",
        "\n"
      ]
    },
    {
      "cell_type": "markdown",
      "metadata": {
        "id": "i8aQOVwZxnFG"
      },
      "source": [
        "##MULTIVARIATE ANALYSIS"
      ]
    },
    {
      "cell_type": "code",
      "metadata": {
        "id": "olP26jAiy7gT",
        "colab": {
          "base_uri": "https://localhost:8080/"
        },
        "outputId": "a31ac6d0-5548-416b-92df-a4f4f8b6fba1"
      },
      "source": [
        "bank.columns"
      ],
      "execution_count": 24,
      "outputs": [
        {
          "output_type": "execute_result",
          "data": {
            "text/plain": [
              "Index(['age', 'job', 'marital', 'education', 'default', 'housing', 'loan',\n",
              "       'contact', 'month', 'day_of_week', 'duration', 'term_deposit'],\n",
              "      dtype='object')"
            ]
          },
          "metadata": {
            "tags": []
          },
          "execution_count": 24
        }
      ]
    },
    {
      "cell_type": "code",
      "metadata": {
        "id": "2v1ZgHvGzDX3"
      },
      "source": [
        "columns=['job', 'marital', 'education', 'default', 'housing', 'loan',\n",
        "       'contact', 'month', 'day_of_week']"
      ],
      "execution_count": 25,
      "outputs": []
    },
    {
      "cell_type": "code",
      "metadata": {
        "id": "1z43vmMMxlyB",
        "colab": {
          "base_uri": "https://localhost:8080/"
        },
        "outputId": "f7e98ebc-cfd8-403f-92b4-86cce5558192"
      },
      "source": [
        "#converting categorical values to numeric\n",
        "from sklearn.preprocessing import LabelEncoder\n",
        "for col in columns:\n",
        "  labelencoder = LabelEncoder()\n",
        "  \n",
        "  labelencoder.fit(bank[col])\n",
        "  bank[col] = labelencoder.transform(bank[col])\n",
        "bank.info()"
      ],
      "execution_count": 26,
      "outputs": [
        {
          "output_type": "stream",
          "text": [
            "<class 'pandas.core.frame.DataFrame'>\n",
            "RangeIndex: 41188 entries, 0 to 41187\n",
            "Data columns (total 12 columns):\n",
            " #   Column        Non-Null Count  Dtype \n",
            "---  ------        --------------  ----- \n",
            " 0   age           41188 non-null  int64 \n",
            " 1   job           41188 non-null  int64 \n",
            " 2   marital       41188 non-null  int64 \n",
            " 3   education     41188 non-null  int64 \n",
            " 4   default       41188 non-null  int64 \n",
            " 5   housing       41188 non-null  int64 \n",
            " 6   loan          41188 non-null  int64 \n",
            " 7   contact       41188 non-null  int64 \n",
            " 8   month         41188 non-null  int64 \n",
            " 9   day_of_week   41188 non-null  int64 \n",
            " 10  duration      41188 non-null  int64 \n",
            " 11  term_deposit  41188 non-null  object\n",
            "dtypes: int64(11), object(1)\n",
            "memory usage: 3.8+ MB\n"
          ],
          "name": "stdout"
        },
        {
          "output_type": "stream",
          "text": [
            "/usr/local/lib/python3.7/dist-packages/ipykernel_launcher.py:7: SettingWithCopyWarning: \n",
            "A value is trying to be set on a copy of a slice from a DataFrame.\n",
            "Try using .loc[row_indexer,col_indexer] = value instead\n",
            "\n",
            "See the caveats in the documentation: https://pandas.pydata.org/pandas-docs/stable/user_guide/indexing.html#returning-a-view-versus-a-copy\n",
            "  import sys\n"
          ],
          "name": "stderr"
        }
      ]
    },
    {
      "cell_type": "code",
      "metadata": {
        "id": "-BlI8RxgyQsg",
        "colab": {
          "base_uri": "https://localhost:8080/",
          "height": 419
        },
        "outputId": "059efc3a-4945-43dd-b749-ff59af5aa8cc"
      },
      "source": [
        "#viewing our dataset\n",
        "bank"
      ],
      "execution_count": 27,
      "outputs": [
        {
          "output_type": "execute_result",
          "data": {
            "text/html": [
              "<div>\n",
              "<style scoped>\n",
              "    .dataframe tbody tr th:only-of-type {\n",
              "        vertical-align: middle;\n",
              "    }\n",
              "\n",
              "    .dataframe tbody tr th {\n",
              "        vertical-align: top;\n",
              "    }\n",
              "\n",
              "    .dataframe thead th {\n",
              "        text-align: right;\n",
              "    }\n",
              "</style>\n",
              "<table border=\"1\" class=\"dataframe\">\n",
              "  <thead>\n",
              "    <tr style=\"text-align: right;\">\n",
              "      <th></th>\n",
              "      <th>age</th>\n",
              "      <th>job</th>\n",
              "      <th>marital</th>\n",
              "      <th>education</th>\n",
              "      <th>default</th>\n",
              "      <th>housing</th>\n",
              "      <th>loan</th>\n",
              "      <th>contact</th>\n",
              "      <th>month</th>\n",
              "      <th>day_of_week</th>\n",
              "      <th>duration</th>\n",
              "      <th>term_deposit</th>\n",
              "    </tr>\n",
              "  </thead>\n",
              "  <tbody>\n",
              "    <tr>\n",
              "      <th>0</th>\n",
              "      <td>56</td>\n",
              "      <td>3</td>\n",
              "      <td>1</td>\n",
              "      <td>0</td>\n",
              "      <td>0</td>\n",
              "      <td>0</td>\n",
              "      <td>0</td>\n",
              "      <td>1</td>\n",
              "      <td>6</td>\n",
              "      <td>1</td>\n",
              "      <td>261</td>\n",
              "      <td>no</td>\n",
              "    </tr>\n",
              "    <tr>\n",
              "      <th>1</th>\n",
              "      <td>57</td>\n",
              "      <td>7</td>\n",
              "      <td>1</td>\n",
              "      <td>3</td>\n",
              "      <td>1</td>\n",
              "      <td>0</td>\n",
              "      <td>0</td>\n",
              "      <td>1</td>\n",
              "      <td>6</td>\n",
              "      <td>1</td>\n",
              "      <td>149</td>\n",
              "      <td>no</td>\n",
              "    </tr>\n",
              "    <tr>\n",
              "      <th>2</th>\n",
              "      <td>37</td>\n",
              "      <td>7</td>\n",
              "      <td>1</td>\n",
              "      <td>3</td>\n",
              "      <td>0</td>\n",
              "      <td>2</td>\n",
              "      <td>0</td>\n",
              "      <td>1</td>\n",
              "      <td>6</td>\n",
              "      <td>1</td>\n",
              "      <td>226</td>\n",
              "      <td>no</td>\n",
              "    </tr>\n",
              "    <tr>\n",
              "      <th>3</th>\n",
              "      <td>40</td>\n",
              "      <td>0</td>\n",
              "      <td>1</td>\n",
              "      <td>1</td>\n",
              "      <td>0</td>\n",
              "      <td>0</td>\n",
              "      <td>0</td>\n",
              "      <td>1</td>\n",
              "      <td>6</td>\n",
              "      <td>1</td>\n",
              "      <td>151</td>\n",
              "      <td>no</td>\n",
              "    </tr>\n",
              "    <tr>\n",
              "      <th>4</th>\n",
              "      <td>56</td>\n",
              "      <td>7</td>\n",
              "      <td>1</td>\n",
              "      <td>3</td>\n",
              "      <td>0</td>\n",
              "      <td>0</td>\n",
              "      <td>2</td>\n",
              "      <td>1</td>\n",
              "      <td>6</td>\n",
              "      <td>1</td>\n",
              "      <td>307</td>\n",
              "      <td>no</td>\n",
              "    </tr>\n",
              "    <tr>\n",
              "      <th>...</th>\n",
              "      <td>...</td>\n",
              "      <td>...</td>\n",
              "      <td>...</td>\n",
              "      <td>...</td>\n",
              "      <td>...</td>\n",
              "      <td>...</td>\n",
              "      <td>...</td>\n",
              "      <td>...</td>\n",
              "      <td>...</td>\n",
              "      <td>...</td>\n",
              "      <td>...</td>\n",
              "      <td>...</td>\n",
              "    </tr>\n",
              "    <tr>\n",
              "      <th>41183</th>\n",
              "      <td>73</td>\n",
              "      <td>5</td>\n",
              "      <td>1</td>\n",
              "      <td>5</td>\n",
              "      <td>0</td>\n",
              "      <td>2</td>\n",
              "      <td>0</td>\n",
              "      <td>0</td>\n",
              "      <td>7</td>\n",
              "      <td>0</td>\n",
              "      <td>334</td>\n",
              "      <td>yes</td>\n",
              "    </tr>\n",
              "    <tr>\n",
              "      <th>41184</th>\n",
              "      <td>46</td>\n",
              "      <td>1</td>\n",
              "      <td>1</td>\n",
              "      <td>5</td>\n",
              "      <td>0</td>\n",
              "      <td>0</td>\n",
              "      <td>0</td>\n",
              "      <td>0</td>\n",
              "      <td>7</td>\n",
              "      <td>0</td>\n",
              "      <td>383</td>\n",
              "      <td>no</td>\n",
              "    </tr>\n",
              "    <tr>\n",
              "      <th>41185</th>\n",
              "      <td>56</td>\n",
              "      <td>5</td>\n",
              "      <td>1</td>\n",
              "      <td>6</td>\n",
              "      <td>0</td>\n",
              "      <td>2</td>\n",
              "      <td>0</td>\n",
              "      <td>0</td>\n",
              "      <td>7</td>\n",
              "      <td>0</td>\n",
              "      <td>189</td>\n",
              "      <td>no</td>\n",
              "    </tr>\n",
              "    <tr>\n",
              "      <th>41186</th>\n",
              "      <td>44</td>\n",
              "      <td>9</td>\n",
              "      <td>1</td>\n",
              "      <td>5</td>\n",
              "      <td>0</td>\n",
              "      <td>0</td>\n",
              "      <td>0</td>\n",
              "      <td>0</td>\n",
              "      <td>7</td>\n",
              "      <td>0</td>\n",
              "      <td>442</td>\n",
              "      <td>yes</td>\n",
              "    </tr>\n",
              "    <tr>\n",
              "      <th>41187</th>\n",
              "      <td>74</td>\n",
              "      <td>5</td>\n",
              "      <td>1</td>\n",
              "      <td>5</td>\n",
              "      <td>0</td>\n",
              "      <td>2</td>\n",
              "      <td>0</td>\n",
              "      <td>0</td>\n",
              "      <td>7</td>\n",
              "      <td>0</td>\n",
              "      <td>239</td>\n",
              "      <td>no</td>\n",
              "    </tr>\n",
              "  </tbody>\n",
              "</table>\n",
              "<p>41188 rows × 12 columns</p>\n",
              "</div>"
            ],
            "text/plain": [
              "       age  job  marital  education  ...  month  day_of_week  duration  term_deposit\n",
              "0       56    3        1          0  ...      6            1       261            no\n",
              "1       57    7        1          3  ...      6            1       149            no\n",
              "2       37    7        1          3  ...      6            1       226            no\n",
              "3       40    0        1          1  ...      6            1       151            no\n",
              "4       56    7        1          3  ...      6            1       307            no\n",
              "...    ...  ...      ...        ...  ...    ...          ...       ...           ...\n",
              "41183   73    5        1          5  ...      7            0       334           yes\n",
              "41184   46    1        1          5  ...      7            0       383            no\n",
              "41185   56    5        1          6  ...      7            0       189            no\n",
              "41186   44    9        1          5  ...      7            0       442           yes\n",
              "41187   74    5        1          5  ...      7            0       239            no\n",
              "\n",
              "[41188 rows x 12 columns]"
            ]
          },
          "metadata": {
            "tags": []
          },
          "execution_count": 27
        }
      ]
    },
    {
      "cell_type": "code",
      "metadata": {
        "id": "q0xO4bEkyHow"
      },
      "source": [
        "# Preprocessing\n",
        "x=bank[['age', 'job', 'marital', 'education', 'default', 'housing', 'loan',\n",
        "       'contact','month','day_of_week','duration']]\n",
        "y=bank['term_deposit']\n",
        "\n"
      ],
      "execution_count": 28,
      "outputs": []
    },
    {
      "cell_type": "code",
      "metadata": {
        "id": "MJplJ0MpyizY",
        "colab": {
          "base_uri": "https://localhost:8080/"
        },
        "outputId": "4862fd68-c883-4fc2-c562-43010a05db4c"
      },
      "source": [
        "#Import linear Doscriminant analysis method from sklearn library\n",
        "from sklearn.discriminant_analysis import LinearDiscriminantAnalysis as LDA\n",
        "#create an instance of LDA\n",
        "lda=LDA()\n",
        "lda_=lda.fit(x,y)\n",
        "lda_x=lda_.transform(x)\n",
        "lda_.coef_"
      ],
      "execution_count": 29,
      "outputs": [
        {
          "output_type": "execute_result",
          "data": {
            "text/plain": [
              "array([[ 0.02640026,  0.01812569,  0.33507951,  0.07241396, -0.7413617 ,\n",
              "         0.01079535, -0.03070266, -1.02320864,  0.05369585,  0.01742834,\n",
              "         0.00608021]])"
            ]
          },
          "metadata": {
            "tags": []
          },
          "execution_count": 29
        }
      ]
    },
    {
      "cell_type": "code",
      "metadata": {
        "id": "HYBwUMnHypLE",
        "colab": {
          "base_uri": "https://localhost:8080/",
          "height": 390
        },
        "outputId": "c51028b8-cd6c-4d9b-86c9-6a3319bfe0da"
      },
      "source": [
        "#creating a dataframe to get the name of the columns\n",
        "bnk=pd.DataFrame(index=x.columns.values,data=lda_.coef_[0].T)\n",
        "bnk.sort_values(0,ascending=False)"
      ],
      "execution_count": 30,
      "outputs": [
        {
          "output_type": "execute_result",
          "data": {
            "text/html": [
              "<div>\n",
              "<style scoped>\n",
              "    .dataframe tbody tr th:only-of-type {\n",
              "        vertical-align: middle;\n",
              "    }\n",
              "\n",
              "    .dataframe tbody tr th {\n",
              "        vertical-align: top;\n",
              "    }\n",
              "\n",
              "    .dataframe thead th {\n",
              "        text-align: right;\n",
              "    }\n",
              "</style>\n",
              "<table border=\"1\" class=\"dataframe\">\n",
              "  <thead>\n",
              "    <tr style=\"text-align: right;\">\n",
              "      <th></th>\n",
              "      <th>0</th>\n",
              "    </tr>\n",
              "  </thead>\n",
              "  <tbody>\n",
              "    <tr>\n",
              "      <th>marital</th>\n",
              "      <td>0.335080</td>\n",
              "    </tr>\n",
              "    <tr>\n",
              "      <th>education</th>\n",
              "      <td>0.072414</td>\n",
              "    </tr>\n",
              "    <tr>\n",
              "      <th>month</th>\n",
              "      <td>0.053696</td>\n",
              "    </tr>\n",
              "    <tr>\n",
              "      <th>age</th>\n",
              "      <td>0.026400</td>\n",
              "    </tr>\n",
              "    <tr>\n",
              "      <th>job</th>\n",
              "      <td>0.018126</td>\n",
              "    </tr>\n",
              "    <tr>\n",
              "      <th>day_of_week</th>\n",
              "      <td>0.017428</td>\n",
              "    </tr>\n",
              "    <tr>\n",
              "      <th>housing</th>\n",
              "      <td>0.010795</td>\n",
              "    </tr>\n",
              "    <tr>\n",
              "      <th>duration</th>\n",
              "      <td>0.006080</td>\n",
              "    </tr>\n",
              "    <tr>\n",
              "      <th>loan</th>\n",
              "      <td>-0.030703</td>\n",
              "    </tr>\n",
              "    <tr>\n",
              "      <th>default</th>\n",
              "      <td>-0.741362</td>\n",
              "    </tr>\n",
              "    <tr>\n",
              "      <th>contact</th>\n",
              "      <td>-1.023209</td>\n",
              "    </tr>\n",
              "  </tbody>\n",
              "</table>\n",
              "</div>"
            ],
            "text/plain": [
              "                    0\n",
              "marital      0.335080\n",
              "education    0.072414\n",
              "month        0.053696\n",
              "age          0.026400\n",
              "job          0.018126\n",
              "day_of_week  0.017428\n",
              "housing      0.010795\n",
              "duration     0.006080\n",
              "loan        -0.030703\n",
              "default     -0.741362\n",
              "contact     -1.023209"
            ]
          },
          "metadata": {
            "tags": []
          },
          "execution_count": 30
        }
      ]
    },
    {
      "cell_type": "markdown",
      "metadata": {
        "id": "xXHnkjqB9q6b"
      },
      "source": [
        "From our analysis,it is safe to conclude that we can use a linear combinationof the following features to comfortably predict if an individual subscribes to a term deposit.\n",
        "\n",
        "\n",
        "*   Marital\tStatus\n",
        "*   Level of education\n",
        "*   Month\n",
        "*   Age\n",
        "*   Job\n",
        "*   Day of the week\n",
        "*   Housing loan\n",
        "*   Duration of the call"
      ]
    }
  ]
}